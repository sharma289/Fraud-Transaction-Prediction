{
 "cells": [
  {
   "cell_type": "code",
   "execution_count": 1,
   "id": "fae71e9e",
   "metadata": {},
   "outputs": [],
   "source": [
    "import numpy as np\n",
    "import pandas as pd\n",
    "import seaborn as sns\n",
    "import matplotlib.pyplot as plt"
   ]
  },
  {
   "cell_type": "code",
   "execution_count": 2,
   "id": "2599f8b4",
   "metadata": {},
   "outputs": [],
   "source": [
    "df = pd.read_csv('Fraud.csv')"
   ]
  },
  {
   "cell_type": "code",
   "execution_count": 3,
   "id": "ca841331",
   "metadata": {
    "scrolled": false
   },
   "outputs": [
    {
     "data": {
      "text/html": [
       "<div>\n",
       "<style scoped>\n",
       "    .dataframe tbody tr th:only-of-type {\n",
       "        vertical-align: middle;\n",
       "    }\n",
       "\n",
       "    .dataframe tbody tr th {\n",
       "        vertical-align: top;\n",
       "    }\n",
       "\n",
       "    .dataframe thead th {\n",
       "        text-align: right;\n",
       "    }\n",
       "</style>\n",
       "<table border=\"1\" class=\"dataframe\">\n",
       "  <thead>\n",
       "    <tr style=\"text-align: right;\">\n",
       "      <th></th>\n",
       "      <th>step</th>\n",
       "      <th>type</th>\n",
       "      <th>amount</th>\n",
       "      <th>nameOrig</th>\n",
       "      <th>oldbalanceOrg</th>\n",
       "      <th>newbalanceOrig</th>\n",
       "      <th>nameDest</th>\n",
       "      <th>oldbalanceDest</th>\n",
       "      <th>newbalanceDest</th>\n",
       "      <th>isFraud</th>\n",
       "      <th>isFlaggedFraud</th>\n",
       "    </tr>\n",
       "  </thead>\n",
       "  <tbody>\n",
       "    <tr>\n",
       "      <th>0</th>\n",
       "      <td>1</td>\n",
       "      <td>PAYMENT</td>\n",
       "      <td>9839.64</td>\n",
       "      <td>C1231006815</td>\n",
       "      <td>170136.00</td>\n",
       "      <td>160296.36</td>\n",
       "      <td>M1979787155</td>\n",
       "      <td>0.00</td>\n",
       "      <td>0.00</td>\n",
       "      <td>0</td>\n",
       "      <td>0</td>\n",
       "    </tr>\n",
       "    <tr>\n",
       "      <th>1</th>\n",
       "      <td>1</td>\n",
       "      <td>PAYMENT</td>\n",
       "      <td>1864.28</td>\n",
       "      <td>C1666544295</td>\n",
       "      <td>21249.00</td>\n",
       "      <td>19384.72</td>\n",
       "      <td>M2044282225</td>\n",
       "      <td>0.00</td>\n",
       "      <td>0.00</td>\n",
       "      <td>0</td>\n",
       "      <td>0</td>\n",
       "    </tr>\n",
       "    <tr>\n",
       "      <th>2</th>\n",
       "      <td>1</td>\n",
       "      <td>TRANSFER</td>\n",
       "      <td>181.00</td>\n",
       "      <td>C1305486145</td>\n",
       "      <td>181.00</td>\n",
       "      <td>0.00</td>\n",
       "      <td>C553264065</td>\n",
       "      <td>0.00</td>\n",
       "      <td>0.00</td>\n",
       "      <td>1</td>\n",
       "      <td>0</td>\n",
       "    </tr>\n",
       "    <tr>\n",
       "      <th>3</th>\n",
       "      <td>1</td>\n",
       "      <td>CASH_OUT</td>\n",
       "      <td>181.00</td>\n",
       "      <td>C840083671</td>\n",
       "      <td>181.00</td>\n",
       "      <td>0.00</td>\n",
       "      <td>C38997010</td>\n",
       "      <td>21182.00</td>\n",
       "      <td>0.00</td>\n",
       "      <td>1</td>\n",
       "      <td>0</td>\n",
       "    </tr>\n",
       "    <tr>\n",
       "      <th>4</th>\n",
       "      <td>1</td>\n",
       "      <td>PAYMENT</td>\n",
       "      <td>11668.14</td>\n",
       "      <td>C2048537720</td>\n",
       "      <td>41554.00</td>\n",
       "      <td>29885.86</td>\n",
       "      <td>M1230701703</td>\n",
       "      <td>0.00</td>\n",
       "      <td>0.00</td>\n",
       "      <td>0</td>\n",
       "      <td>0</td>\n",
       "    </tr>\n",
       "    <tr>\n",
       "      <th>...</th>\n",
       "      <td>...</td>\n",
       "      <td>...</td>\n",
       "      <td>...</td>\n",
       "      <td>...</td>\n",
       "      <td>...</td>\n",
       "      <td>...</td>\n",
       "      <td>...</td>\n",
       "      <td>...</td>\n",
       "      <td>...</td>\n",
       "      <td>...</td>\n",
       "      <td>...</td>\n",
       "    </tr>\n",
       "    <tr>\n",
       "      <th>6362615</th>\n",
       "      <td>743</td>\n",
       "      <td>CASH_OUT</td>\n",
       "      <td>339682.13</td>\n",
       "      <td>C786484425</td>\n",
       "      <td>339682.13</td>\n",
       "      <td>0.00</td>\n",
       "      <td>C776919290</td>\n",
       "      <td>0.00</td>\n",
       "      <td>339682.13</td>\n",
       "      <td>1</td>\n",
       "      <td>0</td>\n",
       "    </tr>\n",
       "    <tr>\n",
       "      <th>6362616</th>\n",
       "      <td>743</td>\n",
       "      <td>TRANSFER</td>\n",
       "      <td>6311409.28</td>\n",
       "      <td>C1529008245</td>\n",
       "      <td>6311409.28</td>\n",
       "      <td>0.00</td>\n",
       "      <td>C1881841831</td>\n",
       "      <td>0.00</td>\n",
       "      <td>0.00</td>\n",
       "      <td>1</td>\n",
       "      <td>0</td>\n",
       "    </tr>\n",
       "    <tr>\n",
       "      <th>6362617</th>\n",
       "      <td>743</td>\n",
       "      <td>CASH_OUT</td>\n",
       "      <td>6311409.28</td>\n",
       "      <td>C1162922333</td>\n",
       "      <td>6311409.28</td>\n",
       "      <td>0.00</td>\n",
       "      <td>C1365125890</td>\n",
       "      <td>68488.84</td>\n",
       "      <td>6379898.11</td>\n",
       "      <td>1</td>\n",
       "      <td>0</td>\n",
       "    </tr>\n",
       "    <tr>\n",
       "      <th>6362618</th>\n",
       "      <td>743</td>\n",
       "      <td>TRANSFER</td>\n",
       "      <td>850002.52</td>\n",
       "      <td>C1685995037</td>\n",
       "      <td>850002.52</td>\n",
       "      <td>0.00</td>\n",
       "      <td>C2080388513</td>\n",
       "      <td>0.00</td>\n",
       "      <td>0.00</td>\n",
       "      <td>1</td>\n",
       "      <td>0</td>\n",
       "    </tr>\n",
       "    <tr>\n",
       "      <th>6362619</th>\n",
       "      <td>743</td>\n",
       "      <td>CASH_OUT</td>\n",
       "      <td>850002.52</td>\n",
       "      <td>C1280323807</td>\n",
       "      <td>850002.52</td>\n",
       "      <td>0.00</td>\n",
       "      <td>C873221189</td>\n",
       "      <td>6510099.11</td>\n",
       "      <td>7360101.63</td>\n",
       "      <td>1</td>\n",
       "      <td>0</td>\n",
       "    </tr>\n",
       "  </tbody>\n",
       "</table>\n",
       "<p>6362620 rows × 11 columns</p>\n",
       "</div>"
      ],
      "text/plain": [
       "         step      type      amount     nameOrig  oldbalanceOrg  \\\n",
       "0           1   PAYMENT     9839.64  C1231006815      170136.00   \n",
       "1           1   PAYMENT     1864.28  C1666544295       21249.00   \n",
       "2           1  TRANSFER      181.00  C1305486145         181.00   \n",
       "3           1  CASH_OUT      181.00   C840083671         181.00   \n",
       "4           1   PAYMENT    11668.14  C2048537720       41554.00   \n",
       "...       ...       ...         ...          ...            ...   \n",
       "6362615   743  CASH_OUT   339682.13   C786484425      339682.13   \n",
       "6362616   743  TRANSFER  6311409.28  C1529008245     6311409.28   \n",
       "6362617   743  CASH_OUT  6311409.28  C1162922333     6311409.28   \n",
       "6362618   743  TRANSFER   850002.52  C1685995037      850002.52   \n",
       "6362619   743  CASH_OUT   850002.52  C1280323807      850002.52   \n",
       "\n",
       "         newbalanceOrig     nameDest  oldbalanceDest  newbalanceDest  isFraud  \\\n",
       "0             160296.36  M1979787155            0.00            0.00        0   \n",
       "1              19384.72  M2044282225            0.00            0.00        0   \n",
       "2                  0.00   C553264065            0.00            0.00        1   \n",
       "3                  0.00    C38997010        21182.00            0.00        1   \n",
       "4              29885.86  M1230701703            0.00            0.00        0   \n",
       "...                 ...          ...             ...             ...      ...   \n",
       "6362615            0.00   C776919290            0.00       339682.13        1   \n",
       "6362616            0.00  C1881841831            0.00            0.00        1   \n",
       "6362617            0.00  C1365125890        68488.84      6379898.11        1   \n",
       "6362618            0.00  C2080388513            0.00            0.00        1   \n",
       "6362619            0.00   C873221189      6510099.11      7360101.63        1   \n",
       "\n",
       "         isFlaggedFraud  \n",
       "0                     0  \n",
       "1                     0  \n",
       "2                     0  \n",
       "3                     0  \n",
       "4                     0  \n",
       "...                 ...  \n",
       "6362615               0  \n",
       "6362616               0  \n",
       "6362617               0  \n",
       "6362618               0  \n",
       "6362619               0  \n",
       "\n",
       "[6362620 rows x 11 columns]"
      ]
     },
     "execution_count": 3,
     "metadata": {},
     "output_type": "execute_result"
    }
   ],
   "source": [
    "df"
   ]
  },
  {
   "cell_type": "code",
   "execution_count": 4,
   "id": "ded504f0",
   "metadata": {},
   "outputs": [
    {
     "name": "stdout",
     "output_type": "stream",
     "text": [
      "step                int64\n",
      "type               object\n",
      "amount            float64\n",
      "nameOrig           object\n",
      "oldbalanceOrg     float64\n",
      "newbalanceOrig    float64\n",
      "nameDest           object\n",
      "oldbalanceDest    float64\n",
      "newbalanceDest    float64\n",
      "isFraud             int64\n",
      "isFlaggedFraud      int64\n",
      "dtype: object\n"
     ]
    }
   ],
   "source": [
    "print(df.dtypes)"
   ]
  },
  {
   "cell_type": "code",
   "execution_count": 5,
   "id": "d76d904d",
   "metadata": {},
   "outputs": [
    {
     "data": {
      "text/plain": [
       "step              0\n",
       "type              0\n",
       "amount            0\n",
       "nameOrig          0\n",
       "oldbalanceOrg     0\n",
       "newbalanceOrig    0\n",
       "nameDest          0\n",
       "oldbalanceDest    0\n",
       "newbalanceDest    0\n",
       "isFraud           0\n",
       "isFlaggedFraud    0\n",
       "dtype: int64"
      ]
     },
     "execution_count": 5,
     "metadata": {},
     "output_type": "execute_result"
    }
   ],
   "source": [
    "df.isna().sum()"
   ]
  },
  {
   "cell_type": "markdown",
   "id": "3e65db8a",
   "metadata": {},
   "source": [
    "There is no NULL or Missing variables in the dataset."
   ]
  },
  {
   "cell_type": "code",
   "execution_count": 6,
   "id": "36e8cdc8",
   "metadata": {},
   "outputs": [],
   "source": [
    "# We change the data type in 'type' feature\n",
    "df['type']=df['type'].map({'PAYMENT':1 ,'TRANSFER':2, 'CASH_OUT':3, 'DEBIT':4, 'CASH_IN':5})"
   ]
  },
  {
   "cell_type": "code",
   "execution_count": 7,
   "id": "35f9029d",
   "metadata": {
    "scrolled": false
   },
   "outputs": [
    {
     "data": {
      "text/html": [
       "<div>\n",
       "<style scoped>\n",
       "    .dataframe tbody tr th:only-of-type {\n",
       "        vertical-align: middle;\n",
       "    }\n",
       "\n",
       "    .dataframe tbody tr th {\n",
       "        vertical-align: top;\n",
       "    }\n",
       "\n",
       "    .dataframe thead th {\n",
       "        text-align: right;\n",
       "    }\n",
       "</style>\n",
       "<table border=\"1\" class=\"dataframe\">\n",
       "  <thead>\n",
       "    <tr style=\"text-align: right;\">\n",
       "      <th></th>\n",
       "      <th>step</th>\n",
       "      <th>type</th>\n",
       "      <th>amount</th>\n",
       "      <th>nameOrig</th>\n",
       "      <th>oldbalanceOrg</th>\n",
       "      <th>newbalanceOrig</th>\n",
       "      <th>nameDest</th>\n",
       "      <th>oldbalanceDest</th>\n",
       "      <th>newbalanceDest</th>\n",
       "      <th>isFraud</th>\n",
       "      <th>isFlaggedFraud</th>\n",
       "    </tr>\n",
       "  </thead>\n",
       "  <tbody>\n",
       "    <tr>\n",
       "      <th>3982227</th>\n",
       "      <td>298</td>\n",
       "      <td>3</td>\n",
       "      <td>119762.84</td>\n",
       "      <td>C202199616</td>\n",
       "      <td>5254.0</td>\n",
       "      <td>0.00</td>\n",
       "      <td>C378616921</td>\n",
       "      <td>472555.10</td>\n",
       "      <td>592317.94</td>\n",
       "      <td>0</td>\n",
       "      <td>0</td>\n",
       "    </tr>\n",
       "    <tr>\n",
       "      <th>5292597</th>\n",
       "      <td>373</td>\n",
       "      <td>5</td>\n",
       "      <td>129748.36</td>\n",
       "      <td>C757549266</td>\n",
       "      <td>49731.0</td>\n",
       "      <td>179479.36</td>\n",
       "      <td>C2099946567</td>\n",
       "      <td>2198212.73</td>\n",
       "      <td>2068464.37</td>\n",
       "      <td>0</td>\n",
       "      <td>0</td>\n",
       "    </tr>\n",
       "    <tr>\n",
       "      <th>3533997</th>\n",
       "      <td>259</td>\n",
       "      <td>3</td>\n",
       "      <td>314669.47</td>\n",
       "      <td>C1918876100</td>\n",
       "      <td>0.0</td>\n",
       "      <td>0.00</td>\n",
       "      <td>C1177441283</td>\n",
       "      <td>1714787.71</td>\n",
       "      <td>2029457.18</td>\n",
       "      <td>0</td>\n",
       "      <td>0</td>\n",
       "    </tr>\n",
       "    <tr>\n",
       "      <th>1508210</th>\n",
       "      <td>144</td>\n",
       "      <td>3</td>\n",
       "      <td>166981.19</td>\n",
       "      <td>C1659106528</td>\n",
       "      <td>0.0</td>\n",
       "      <td>0.00</td>\n",
       "      <td>C681419196</td>\n",
       "      <td>4687336.49</td>\n",
       "      <td>4854317.68</td>\n",
       "      <td>0</td>\n",
       "      <td>0</td>\n",
       "    </tr>\n",
       "    <tr>\n",
       "      <th>4990779</th>\n",
       "      <td>352</td>\n",
       "      <td>1</td>\n",
       "      <td>6407.99</td>\n",
       "      <td>C237884703</td>\n",
       "      <td>6029.0</td>\n",
       "      <td>0.00</td>\n",
       "      <td>M1485879479</td>\n",
       "      <td>0.00</td>\n",
       "      <td>0.00</td>\n",
       "      <td>0</td>\n",
       "      <td>0</td>\n",
       "    </tr>\n",
       "    <tr>\n",
       "      <th>1867392</th>\n",
       "      <td>164</td>\n",
       "      <td>3</td>\n",
       "      <td>97459.71</td>\n",
       "      <td>C1242593732</td>\n",
       "      <td>3197.0</td>\n",
       "      <td>0.00</td>\n",
       "      <td>C79588333</td>\n",
       "      <td>3632495.90</td>\n",
       "      <td>3729955.61</td>\n",
       "      <td>0</td>\n",
       "      <td>0</td>\n",
       "    </tr>\n",
       "    <tr>\n",
       "      <th>4812843</th>\n",
       "      <td>346</td>\n",
       "      <td>1</td>\n",
       "      <td>5530.26</td>\n",
       "      <td>C1610625537</td>\n",
       "      <td>0.0</td>\n",
       "      <td>0.00</td>\n",
       "      <td>M831575735</td>\n",
       "      <td>0.00</td>\n",
       "      <td>0.00</td>\n",
       "      <td>0</td>\n",
       "      <td>0</td>\n",
       "    </tr>\n",
       "    <tr>\n",
       "      <th>5083278</th>\n",
       "      <td>355</td>\n",
       "      <td>1</td>\n",
       "      <td>25608.77</td>\n",
       "      <td>C1650288567</td>\n",
       "      <td>0.0</td>\n",
       "      <td>0.00</td>\n",
       "      <td>M1461955572</td>\n",
       "      <td>0.00</td>\n",
       "      <td>0.00</td>\n",
       "      <td>0</td>\n",
       "      <td>0</td>\n",
       "    </tr>\n",
       "    <tr>\n",
       "      <th>6111087</th>\n",
       "      <td>525</td>\n",
       "      <td>3</td>\n",
       "      <td>31267.07</td>\n",
       "      <td>C975825222</td>\n",
       "      <td>0.0</td>\n",
       "      <td>0.00</td>\n",
       "      <td>C744944969</td>\n",
       "      <td>3876206.35</td>\n",
       "      <td>3907473.42</td>\n",
       "      <td>0</td>\n",
       "      <td>0</td>\n",
       "    </tr>\n",
       "    <tr>\n",
       "      <th>6096759</th>\n",
       "      <td>522</td>\n",
       "      <td>3</td>\n",
       "      <td>22813.47</td>\n",
       "      <td>C1369801721</td>\n",
       "      <td>39845.0</td>\n",
       "      <td>17031.53</td>\n",
       "      <td>C2061917972</td>\n",
       "      <td>44415.84</td>\n",
       "      <td>67229.31</td>\n",
       "      <td>0</td>\n",
       "      <td>0</td>\n",
       "    </tr>\n",
       "  </tbody>\n",
       "</table>\n",
       "</div>"
      ],
      "text/plain": [
       "         step  type     amount     nameOrig  oldbalanceOrg  newbalanceOrig  \\\n",
       "3982227   298     3  119762.84   C202199616         5254.0            0.00   \n",
       "5292597   373     5  129748.36   C757549266        49731.0       179479.36   \n",
       "3533997   259     3  314669.47  C1918876100            0.0            0.00   \n",
       "1508210   144     3  166981.19  C1659106528            0.0            0.00   \n",
       "4990779   352     1    6407.99   C237884703         6029.0            0.00   \n",
       "1867392   164     3   97459.71  C1242593732         3197.0            0.00   \n",
       "4812843   346     1    5530.26  C1610625537            0.0            0.00   \n",
       "5083278   355     1   25608.77  C1650288567            0.0            0.00   \n",
       "6111087   525     3   31267.07   C975825222            0.0            0.00   \n",
       "6096759   522     3   22813.47  C1369801721        39845.0        17031.53   \n",
       "\n",
       "            nameDest  oldbalanceDest  newbalanceDest  isFraud  isFlaggedFraud  \n",
       "3982227   C378616921       472555.10       592317.94        0               0  \n",
       "5292597  C2099946567      2198212.73      2068464.37        0               0  \n",
       "3533997  C1177441283      1714787.71      2029457.18        0               0  \n",
       "1508210   C681419196      4687336.49      4854317.68        0               0  \n",
       "4990779  M1485879479            0.00            0.00        0               0  \n",
       "1867392    C79588333      3632495.90      3729955.61        0               0  \n",
       "4812843   M831575735            0.00            0.00        0               0  \n",
       "5083278  M1461955572            0.00            0.00        0               0  \n",
       "6111087   C744944969      3876206.35      3907473.42        0               0  \n",
       "6096759  C2061917972        44415.84        67229.31        0               0  "
      ]
     },
     "execution_count": 7,
     "metadata": {},
     "output_type": "execute_result"
    }
   ],
   "source": [
    "df[df.isFraud == 0].sample(10)"
   ]
  },
  {
   "cell_type": "code",
   "execution_count": 8,
   "id": "8ff88898",
   "metadata": {},
   "outputs": [
    {
     "name": "stdout",
     "output_type": "stream",
     "text": [
      "Number of isFlaggedFraud = 16\n"
     ]
    }
   ],
   "source": [
    "print(f\"Number of isFlaggedFraud = {df.isFlaggedFraud.sum()}\")"
   ]
  },
  {
   "cell_type": "code",
   "execution_count": 9,
   "id": "296f7012",
   "metadata": {},
   "outputs": [],
   "source": [
    "df = df.drop(['nameOrig','nameDest','isFlaggedFraud'],axis=1)"
   ]
  },
  {
   "cell_type": "code",
   "execution_count": 10,
   "id": "45d1853b",
   "metadata": {},
   "outputs": [],
   "source": [
    "# Now let's check collinearity and multicollinearity between features\n",
    "from patsy import dmatrices\n",
    "from statsmodels.stats.outliers_influence import variance_inflation_factor"
   ]
  },
  {
   "cell_type": "code",
   "execution_count": 11,
   "id": "a44f05e4",
   "metadata": {},
   "outputs": [],
   "source": [
    "#create DataFrame to hold VIF values\n",
    "vif_df = pd.DataFrame()\n",
    "vif_df['variable'] = df.columns "
   ]
  },
  {
   "cell_type": "code",
   "execution_count": 12,
   "id": "b6d24488",
   "metadata": {},
   "outputs": [],
   "source": [
    "#calculate VIF for each predictor variable \n",
    "vif_df['VIF'] = [variance_inflation_factor(df.values, i) for i in range(df.shape[1])]"
   ]
  },
  {
   "cell_type": "code",
   "execution_count": 13,
   "id": "c5652eb9",
   "metadata": {},
   "outputs": [
    {
     "name": "stdout",
     "output_type": "stream",
     "text": [
      "         variable         VIF\n",
      "0            step    2.468588\n",
      "1            type    3.278076\n",
      "2          amount    4.181768\n",
      "3   oldbalanceOrg  590.618237\n",
      "4  newbalanceOrig  599.584249\n",
      "5  oldbalanceDest   74.276004\n",
      "6  newbalanceDest   85.767257\n",
      "7         isFraud    1.195561\n"
     ]
    }
   ],
   "source": [
    "print(vif_df)"
   ]
  },
  {
   "cell_type": "code",
   "execution_count": 14,
   "id": "a4fa8202",
   "metadata": {},
   "outputs": [
    {
     "data": {
      "text/html": [
       "<div>\n",
       "<style scoped>\n",
       "    .dataframe tbody tr th:only-of-type {\n",
       "        vertical-align: middle;\n",
       "    }\n",
       "\n",
       "    .dataframe tbody tr th {\n",
       "        vertical-align: top;\n",
       "    }\n",
       "\n",
       "    .dataframe thead th {\n",
       "        text-align: right;\n",
       "    }\n",
       "</style>\n",
       "<table border=\"1\" class=\"dataframe\">\n",
       "  <thead>\n",
       "    <tr style=\"text-align: right;\">\n",
       "      <th></th>\n",
       "      <th>step</th>\n",
       "      <th>type</th>\n",
       "      <th>amount</th>\n",
       "      <th>oldbalanceOrg</th>\n",
       "      <th>newbalanceOrig</th>\n",
       "      <th>oldbalanceDest</th>\n",
       "      <th>newbalanceDest</th>\n",
       "      <th>isFraud</th>\n",
       "    </tr>\n",
       "  </thead>\n",
       "  <tbody>\n",
       "    <tr>\n",
       "      <th>step</th>\n",
       "      <td>1.000000</td>\n",
       "      <td>-0.001992</td>\n",
       "      <td>0.022373</td>\n",
       "      <td>-0.010058</td>\n",
       "      <td>-0.010299</td>\n",
       "      <td>0.027665</td>\n",
       "      <td>0.025888</td>\n",
       "      <td>0.031578</td>\n",
       "    </tr>\n",
       "    <tr>\n",
       "      <th>type</th>\n",
       "      <td>-0.001992</td>\n",
       "      <td>1.000000</td>\n",
       "      <td>0.050693</td>\n",
       "      <td>0.415700</td>\n",
       "      <td>0.431006</td>\n",
       "      <td>0.165383</td>\n",
       "      <td>0.135362</td>\n",
       "      <td>-0.004463</td>\n",
       "    </tr>\n",
       "    <tr>\n",
       "      <th>amount</th>\n",
       "      <td>0.022373</td>\n",
       "      <td>0.050693</td>\n",
       "      <td>1.000000</td>\n",
       "      <td>-0.002762</td>\n",
       "      <td>-0.007861</td>\n",
       "      <td>0.294137</td>\n",
       "      <td>0.459304</td>\n",
       "      <td>0.076688</td>\n",
       "    </tr>\n",
       "    <tr>\n",
       "      <th>oldbalanceOrg</th>\n",
       "      <td>-0.010058</td>\n",
       "      <td>0.415700</td>\n",
       "      <td>-0.002762</td>\n",
       "      <td>1.000000</td>\n",
       "      <td>0.998803</td>\n",
       "      <td>0.066243</td>\n",
       "      <td>0.042029</td>\n",
       "      <td>0.010154</td>\n",
       "    </tr>\n",
       "    <tr>\n",
       "      <th>newbalanceOrig</th>\n",
       "      <td>-0.010299</td>\n",
       "      <td>0.431006</td>\n",
       "      <td>-0.007861</td>\n",
       "      <td>0.998803</td>\n",
       "      <td>1.000000</td>\n",
       "      <td>0.067812</td>\n",
       "      <td>0.041837</td>\n",
       "      <td>-0.008148</td>\n",
       "    </tr>\n",
       "    <tr>\n",
       "      <th>oldbalanceDest</th>\n",
       "      <td>0.027665</td>\n",
       "      <td>0.165383</td>\n",
       "      <td>0.294137</td>\n",
       "      <td>0.066243</td>\n",
       "      <td>0.067812</td>\n",
       "      <td>1.000000</td>\n",
       "      <td>0.976569</td>\n",
       "      <td>-0.005885</td>\n",
       "    </tr>\n",
       "    <tr>\n",
       "      <th>newbalanceDest</th>\n",
       "      <td>0.025888</td>\n",
       "      <td>0.135362</td>\n",
       "      <td>0.459304</td>\n",
       "      <td>0.042029</td>\n",
       "      <td>0.041837</td>\n",
       "      <td>0.976569</td>\n",
       "      <td>1.000000</td>\n",
       "      <td>0.000535</td>\n",
       "    </tr>\n",
       "    <tr>\n",
       "      <th>isFraud</th>\n",
       "      <td>0.031578</td>\n",
       "      <td>-0.004463</td>\n",
       "      <td>0.076688</td>\n",
       "      <td>0.010154</td>\n",
       "      <td>-0.008148</td>\n",
       "      <td>-0.005885</td>\n",
       "      <td>0.000535</td>\n",
       "      <td>1.000000</td>\n",
       "    </tr>\n",
       "  </tbody>\n",
       "</table>\n",
       "</div>"
      ],
      "text/plain": [
       "                    step      type    amount  oldbalanceOrg  newbalanceOrig  \\\n",
       "step            1.000000 -0.001992  0.022373      -0.010058       -0.010299   \n",
       "type           -0.001992  1.000000  0.050693       0.415700        0.431006   \n",
       "amount          0.022373  0.050693  1.000000      -0.002762       -0.007861   \n",
       "oldbalanceOrg  -0.010058  0.415700 -0.002762       1.000000        0.998803   \n",
       "newbalanceOrig -0.010299  0.431006 -0.007861       0.998803        1.000000   \n",
       "oldbalanceDest  0.027665  0.165383  0.294137       0.066243        0.067812   \n",
       "newbalanceDest  0.025888  0.135362  0.459304       0.042029        0.041837   \n",
       "isFraud         0.031578 -0.004463  0.076688       0.010154       -0.008148   \n",
       "\n",
       "                oldbalanceDest  newbalanceDest   isFraud  \n",
       "step                  0.027665        0.025888  0.031578  \n",
       "type                  0.165383        0.135362 -0.004463  \n",
       "amount                0.294137        0.459304  0.076688  \n",
       "oldbalanceOrg         0.066243        0.042029  0.010154  \n",
       "newbalanceOrig        0.067812        0.041837 -0.008148  \n",
       "oldbalanceDest        1.000000        0.976569 -0.005885  \n",
       "newbalanceDest        0.976569        1.000000  0.000535  \n",
       "isFraud              -0.005885        0.000535  1.000000  "
      ]
     },
     "execution_count": 14,
     "metadata": {},
     "output_type": "execute_result"
    }
   ],
   "source": [
    "# Calculating correlation\n",
    "df.corr()"
   ]
  },
  {
   "cell_type": "code",
   "execution_count": 15,
   "id": "6672d554",
   "metadata": {},
   "outputs": [],
   "source": [
    "# Now let's see types of Fraud\n",
    "payment_fraud = df.loc[(df.isFraud == 1) & (df.type == 1)]\n",
    "transfer_fraud = df.loc[(df.isFraud == 1) & (df.type == 2)]\n",
    "cashout_fraud = df.loc[(df.isFraud == 1) & (df.type == 3)]\n",
    "debit_fraud = df.loc[(df.isFraud == 1) & (df.type == 4)]\n",
    "cashin_fraud = df.loc[(df.isFraud == 1) & (df.type == 5)]"
   ]
  },
  {
   "cell_type": "code",
   "execution_count": 16,
   "id": "32c53b48",
   "metadata": {},
   "outputs": [
    {
     "name": "stdout",
     "output_type": "stream",
     "text": [
      "number of PAYMENT are fraud :0\n",
      "number of TRANSFER are fraud :4097\n",
      "number of CASH OUT are fraud :4116\n",
      "number of DEBIT are fraud :0\n",
      "number of CASH IN are fraud :0\n"
     ]
    }
   ],
   "source": [
    "print('number of PAYMENT are fraud :{}'.format(len(payment_fraud)))\n",
    "print('number of TRANSFER are fraud :{}'.format(len(transfer_fraud)))\n",
    "print('number of CASH OUT are fraud :{}'.format(len(cashout_fraud)))\n",
    "print('number of DEBIT are fraud :{}'.format(len(debit_fraud)))\n",
    "print('number of CASH IN are fraud :{}'.format(len(cashin_fraud)))"
   ]
  },
  {
   "cell_type": "markdown",
   "id": "c8359fec",
   "metadata": {},
   "source": [
    "All frauds are of type 'TRANSFER' and 'CASH OUT'.\n",
    "So we can choose only these 2 types of payments and we will remove Variables 'nameorig' , 'namedest', and 'isFlaggedFraud'."
   ]
  },
  {
   "cell_type": "code",
   "execution_count": 17,
   "id": "6277c135",
   "metadata": {},
   "outputs": [],
   "source": [
    "# We will consider only 'TRANSFER' and 'CASH OUT' type cases only.\n",
    "df = df.loc[(df.type == 2) | (df.type == 3)]"
   ]
  },
  {
   "cell_type": "code",
   "execution_count": 18,
   "id": "9461b606",
   "metadata": {},
   "outputs": [],
   "source": [
    "X = df.iloc[:,:-1]\n",
    "y = df.iloc[:,-1]"
   ]
  },
  {
   "cell_type": "code",
   "execution_count": 19,
   "id": "b8fd8ea2",
   "metadata": {},
   "outputs": [],
   "source": [
    "X['type']= X['type'].map({2:1,3:2})"
   ]
  },
  {
   "cell_type": "markdown",
   "id": "d52d15e2",
   "metadata": {},
   "source": [
    "**Replacing missing values -**\n",
    "\n",
    "- There are transactions where 'newbalanceorig' and 'oldbalanceorig' is zero while amount is non zero so we replace them with np.nan.\n",
    "- There are 'newblancedest' and 'oldbalancedest' values are equal to zero but we can notimpute them because they shows the fraud transaction occured when amount is non zero instead of imputing them by 0 = -1"
   ]
  },
  {
   "cell_type": "code",
   "execution_count": 20,
   "id": "63c3fc38",
   "metadata": {},
   "outputs": [],
   "source": [
    "X.loc[(X.oldbalanceDest == 0) & (X.newbalanceDest == 0) & (X.amount != 0) ,['oldbalanceDest','newbalanceDest'] ] = -1 \n",
    "X.loc[(X.oldbalanceOrg == 0) & (X.newbalanceOrig == 0) & (X.amount != 0) ,['oldbalanceOrg','newbalanceOrig'] ] = 0 "
   ]
  },
  {
   "cell_type": "markdown",
   "id": "ab35d7b8",
   "metadata": {},
   "source": [
    "Now we can create two features of error at origin and destination account, where non zero amount is transfer but oldbalance and new balance have zero value"
   ]
  },
  {
   "cell_type": "code",
   "execution_count": 21,
   "id": "1dc1155d",
   "metadata": {},
   "outputs": [],
   "source": [
    "X['errorbalanceOrig'] = X.newbalanceOrig + X.amount - X.oldbalanceOrg\n",
    "X['errorbalanceDest'] = X.oldbalanceDest + X.amount - X.newbalanceDest"
   ]
  },
  {
   "cell_type": "code",
   "execution_count": 22,
   "id": "3ebd72e5",
   "metadata": {},
   "outputs": [
    {
     "data": {
      "text/html": [
       "<div>\n",
       "<style scoped>\n",
       "    .dataframe tbody tr th:only-of-type {\n",
       "        vertical-align: middle;\n",
       "    }\n",
       "\n",
       "    .dataframe tbody tr th {\n",
       "        vertical-align: top;\n",
       "    }\n",
       "\n",
       "    .dataframe thead th {\n",
       "        text-align: right;\n",
       "    }\n",
       "</style>\n",
       "<table border=\"1\" class=\"dataframe\">\n",
       "  <thead>\n",
       "    <tr style=\"text-align: right;\">\n",
       "      <th></th>\n",
       "      <th>step</th>\n",
       "      <th>type</th>\n",
       "      <th>amount</th>\n",
       "      <th>oldbalanceOrg</th>\n",
       "      <th>newbalanceOrig</th>\n",
       "      <th>oldbalanceDest</th>\n",
       "      <th>newbalanceDest</th>\n",
       "      <th>errorbalanceOrig</th>\n",
       "      <th>errorbalanceDest</th>\n",
       "    </tr>\n",
       "  </thead>\n",
       "  <tbody>\n",
       "    <tr>\n",
       "      <th>2</th>\n",
       "      <td>1</td>\n",
       "      <td>1</td>\n",
       "      <td>181.00</td>\n",
       "      <td>181.00</td>\n",
       "      <td>0.0</td>\n",
       "      <td>-1.00</td>\n",
       "      <td>-1.00</td>\n",
       "      <td>0.00</td>\n",
       "      <td>1.810000e+02</td>\n",
       "    </tr>\n",
       "    <tr>\n",
       "      <th>3</th>\n",
       "      <td>1</td>\n",
       "      <td>2</td>\n",
       "      <td>181.00</td>\n",
       "      <td>181.00</td>\n",
       "      <td>0.0</td>\n",
       "      <td>21182.00</td>\n",
       "      <td>0.00</td>\n",
       "      <td>0.00</td>\n",
       "      <td>2.136300e+04</td>\n",
       "    </tr>\n",
       "    <tr>\n",
       "      <th>15</th>\n",
       "      <td>1</td>\n",
       "      <td>2</td>\n",
       "      <td>229133.94</td>\n",
       "      <td>15325.00</td>\n",
       "      <td>0.0</td>\n",
       "      <td>5083.00</td>\n",
       "      <td>51513.44</td>\n",
       "      <td>213808.94</td>\n",
       "      <td>1.827035e+05</td>\n",
       "    </tr>\n",
       "    <tr>\n",
       "      <th>19</th>\n",
       "      <td>1</td>\n",
       "      <td>1</td>\n",
       "      <td>215310.30</td>\n",
       "      <td>705.00</td>\n",
       "      <td>0.0</td>\n",
       "      <td>22425.00</td>\n",
       "      <td>0.00</td>\n",
       "      <td>214605.30</td>\n",
       "      <td>2.377353e+05</td>\n",
       "    </tr>\n",
       "    <tr>\n",
       "      <th>24</th>\n",
       "      <td>1</td>\n",
       "      <td>1</td>\n",
       "      <td>311685.89</td>\n",
       "      <td>10835.00</td>\n",
       "      <td>0.0</td>\n",
       "      <td>6267.00</td>\n",
       "      <td>2719172.89</td>\n",
       "      <td>300850.89</td>\n",
       "      <td>-2.401220e+06</td>\n",
       "    </tr>\n",
       "    <tr>\n",
       "      <th>...</th>\n",
       "      <td>...</td>\n",
       "      <td>...</td>\n",
       "      <td>...</td>\n",
       "      <td>...</td>\n",
       "      <td>...</td>\n",
       "      <td>...</td>\n",
       "      <td>...</td>\n",
       "      <td>...</td>\n",
       "      <td>...</td>\n",
       "    </tr>\n",
       "    <tr>\n",
       "      <th>6362615</th>\n",
       "      <td>743</td>\n",
       "      <td>2</td>\n",
       "      <td>339682.13</td>\n",
       "      <td>339682.13</td>\n",
       "      <td>0.0</td>\n",
       "      <td>0.00</td>\n",
       "      <td>339682.13</td>\n",
       "      <td>0.00</td>\n",
       "      <td>0.000000e+00</td>\n",
       "    </tr>\n",
       "    <tr>\n",
       "      <th>6362616</th>\n",
       "      <td>743</td>\n",
       "      <td>1</td>\n",
       "      <td>6311409.28</td>\n",
       "      <td>6311409.28</td>\n",
       "      <td>0.0</td>\n",
       "      <td>-1.00</td>\n",
       "      <td>-1.00</td>\n",
       "      <td>0.00</td>\n",
       "      <td>6.311409e+06</td>\n",
       "    </tr>\n",
       "    <tr>\n",
       "      <th>6362617</th>\n",
       "      <td>743</td>\n",
       "      <td>2</td>\n",
       "      <td>6311409.28</td>\n",
       "      <td>6311409.28</td>\n",
       "      <td>0.0</td>\n",
       "      <td>68488.84</td>\n",
       "      <td>6379898.11</td>\n",
       "      <td>0.00</td>\n",
       "      <td>1.000000e-02</td>\n",
       "    </tr>\n",
       "    <tr>\n",
       "      <th>6362618</th>\n",
       "      <td>743</td>\n",
       "      <td>1</td>\n",
       "      <td>850002.52</td>\n",
       "      <td>850002.52</td>\n",
       "      <td>0.0</td>\n",
       "      <td>-1.00</td>\n",
       "      <td>-1.00</td>\n",
       "      <td>0.00</td>\n",
       "      <td>8.500025e+05</td>\n",
       "    </tr>\n",
       "    <tr>\n",
       "      <th>6362619</th>\n",
       "      <td>743</td>\n",
       "      <td>2</td>\n",
       "      <td>850002.52</td>\n",
       "      <td>850002.52</td>\n",
       "      <td>0.0</td>\n",
       "      <td>6510099.11</td>\n",
       "      <td>7360101.63</td>\n",
       "      <td>0.00</td>\n",
       "      <td>9.313226e-10</td>\n",
       "    </tr>\n",
       "  </tbody>\n",
       "</table>\n",
       "<p>2770409 rows × 9 columns</p>\n",
       "</div>"
      ],
      "text/plain": [
       "         step  type      amount  oldbalanceOrg  newbalanceOrig  \\\n",
       "2           1     1      181.00         181.00             0.0   \n",
       "3           1     2      181.00         181.00             0.0   \n",
       "15          1     2   229133.94       15325.00             0.0   \n",
       "19          1     1   215310.30         705.00             0.0   \n",
       "24          1     1   311685.89       10835.00             0.0   \n",
       "...       ...   ...         ...            ...             ...   \n",
       "6362615   743     2   339682.13      339682.13             0.0   \n",
       "6362616   743     1  6311409.28     6311409.28             0.0   \n",
       "6362617   743     2  6311409.28     6311409.28             0.0   \n",
       "6362618   743     1   850002.52      850002.52             0.0   \n",
       "6362619   743     2   850002.52      850002.52             0.0   \n",
       "\n",
       "         oldbalanceDest  newbalanceDest  errorbalanceOrig  errorbalanceDest  \n",
       "2                 -1.00           -1.00              0.00      1.810000e+02  \n",
       "3              21182.00            0.00              0.00      2.136300e+04  \n",
       "15              5083.00        51513.44         213808.94      1.827035e+05  \n",
       "19             22425.00            0.00         214605.30      2.377353e+05  \n",
       "24              6267.00      2719172.89         300850.89     -2.401220e+06  \n",
       "...                 ...             ...               ...               ...  \n",
       "6362615            0.00       339682.13              0.00      0.000000e+00  \n",
       "6362616           -1.00           -1.00              0.00      6.311409e+06  \n",
       "6362617        68488.84      6379898.11              0.00      1.000000e-02  \n",
       "6362618           -1.00           -1.00              0.00      8.500025e+05  \n",
       "6362619      6510099.11      7360101.63              0.00      9.313226e-10  \n",
       "\n",
       "[2770409 rows x 9 columns]"
      ]
     },
     "execution_count": 22,
     "metadata": {},
     "output_type": "execute_result"
    }
   ],
   "source": [
    "X"
   ]
  },
  {
   "cell_type": "markdown",
   "id": "4e6550f4",
   "metadata": {},
   "source": [
    "Let's check if the data is imbalances or not."
   ]
  },
  {
   "cell_type": "code",
   "execution_count": 23,
   "id": "82a88841",
   "metadata": {},
   "outputs": [
    {
     "name": "stdout",
     "output_type": "stream",
     "text": [
      "Dateframe has 8213 positive outputs and 22155059 negative outputs\n"
     ]
    }
   ],
   "source": [
    "pos = df.isFraud.sum()\n",
    "neg = df.size - pos\n",
    "print(f\"Dateframe has {pos} positive outputs and {neg} negative outputs\")"
   ]
  },
  {
   "cell_type": "markdown",
   "id": "4b2294c8",
   "metadata": {},
   "source": [
    "So the data is highly imbalanced."
   ]
  },
  {
   "cell_type": "markdown",
   "id": "2450f626",
   "metadata": {},
   "source": [
    "Now we will split data in train and test dataset in 80:20 ratio."
   ]
  },
  {
   "cell_type": "code",
   "execution_count": 24,
   "id": "3d4a0a1c",
   "metadata": {},
   "outputs": [],
   "source": [
    "# Split the dataset in traning set and test set\n",
    "from sklearn.model_selection import train_test_split"
   ]
  },
  {
   "cell_type": "code",
   "execution_count": 25,
   "id": "aaf6663c",
   "metadata": {},
   "outputs": [],
   "source": [
    "X_train, X_test, y_train, y_test = train_test_split(X,y, test_size = 0.8, random_state = 0)"
   ]
  },
  {
   "cell_type": "markdown",
   "id": "e0ec2192",
   "metadata": {},
   "source": [
    "**Selection of metric:** Since the data is highly skewed, I use the area under the precision-recall curve (AUPRC) rather than the conventional area under the receiver operating characteristic (AUROC). AUPRC on a dataset with 99% negative 1% positive examples, and it will “focus” on how the model handles the 1% positive examples. If the model handles the positive examples well, AUPRC will be high. If the model does poorly on the positive examples, AUPRC will be low."
   ]
  },
  {
   "cell_type": "code",
   "execution_count": 27,
   "id": "b652a4f0",
   "metadata": {},
   "outputs": [],
   "source": [
    "!pip install xgboost --quiet"
   ]
  },
  {
   "cell_type": "code",
   "execution_count": 38,
   "id": "451ad44c",
   "metadata": {},
   "outputs": [],
   "source": [
    "from sklearn.metrics import average_precision_score\n",
    "from xgboost.sklearn import XGBClassifier\n",
    "from xgboost import plot_importance, to_graphviz\n",
    "from sklearn.metrics import accuracy_score\n",
    "from sklearn.metrics import confusion_matrix\n",
    "from sklearn.metrics import classification_report"
   ]
  },
  {
   "cell_type": "code",
   "execution_count": 31,
   "id": "77a6f927",
   "metadata": {},
   "outputs": [
    {
     "name": "stdout",
     "output_type": "stream",
     "text": [
      "AUPRC = 0.9974047663613061\n"
     ]
    }
   ],
   "source": [
    "weights = (y == 0).sum() / (1.0 * (y == 1).sum())                  #xgb uses the scale_pos_weight to account for highly skewed datset\n",
    "model = XGBClassifier(max_depth = 3, scale_pos_weight = weights,\n",
    "                n_jobs = 4)\n",
    "probabilities = model.fit(X_train,y_train).predict_proba(X_test)\n",
    "print('AUPRC = {}'.format(average_precision_score(y_test, probabilities[:, 1])))"
   ]
  },
  {
   "cell_type": "code",
   "execution_count": 34,
   "id": "36ae0668",
   "metadata": {},
   "outputs": [
    {
     "data": {
      "text/plain": [
       "array([0, 0, 0, ..., 0, 0, 0])"
      ]
     },
     "execution_count": 34,
     "metadata": {},
     "output_type": "execute_result"
    }
   ],
   "source": [
    "y_preds = model.predict(X_test)"
   ]
  },
  {
   "cell_type": "code",
   "execution_count": 39,
   "id": "7b509548",
   "metadata": {},
   "outputs": [
    {
     "data": {
      "text/plain": [
       "array([[2209730,      35],\n",
       "       [     23,    6540]], dtype=int64)"
      ]
     },
     "execution_count": 39,
     "metadata": {},
     "output_type": "execute_result"
    }
   ],
   "source": [
    "cf = confusion_matrix(y_test,y_preds)\n",
    "cf"
   ]
  },
  {
   "cell_type": "code",
   "execution_count": 37,
   "id": "389f6876",
   "metadata": {},
   "outputs": [
    {
     "name": "stdout",
     "output_type": "stream",
     "text": [
      "              precision    recall  f1-score   support\n",
      "\n",
      "           0       1.00      1.00      1.00   2209765\n",
      "           1       0.99      1.00      1.00      6563\n",
      "\n",
      "    accuracy                           1.00   2216328\n",
      "   macro avg       1.00      1.00      1.00   2216328\n",
      "weighted avg       1.00      1.00      1.00   2216328\n",
      "\n"
     ]
    }
   ],
   "source": [
    "print(classification_report(y_test, y_preds))"
   ]
  },
  {
   "cell_type": "markdown",
   "id": "95c3318a",
   "metadata": {},
   "source": [
    "**AUPRC score is 0.99 means our model is performing well on positive (Fraud transaction) class.**"
   ]
  },
  {
   "cell_type": "markdown",
   "id": "a11b9777",
   "metadata": {},
   "source": [
    "**Q. What kind of prevention should be adopted while company update its infrastructure?**\n",
    "\n",
    "- Company can prevent fraudalnt transaction by focusing more on payment method type - 'Transfer' & 'Cash_out'\n",
    "- Look Out for Patterns in Fraud and Theft"
   ]
  },
  {
   "cell_type": "markdown",
   "id": "16033366",
   "metadata": {},
   "source": [
    "**Q. Assuming these actions have been implemented, how would you determine if they work?**\n",
    "\n",
    "- we can retrain & maintain model after certain intervals so our model perform best under various fraudlant transaction."
   ]
  },
  {
   "cell_type": "code",
   "execution_count": null,
   "id": "814e4157",
   "metadata": {},
   "outputs": [],
   "source": []
  }
 ],
 "metadata": {
  "kernelspec": {
   "display_name": "Python 3 (ipykernel)",
   "language": "python",
   "name": "python3"
  },
  "language_info": {
   "codemirror_mode": {
    "name": "ipython",
    "version": 3
   },
   "file_extension": ".py",
   "mimetype": "text/x-python",
   "name": "python",
   "nbconvert_exporter": "python",
   "pygments_lexer": "ipython3",
   "version": "3.9.12"
  }
 },
 "nbformat": 4,
 "nbformat_minor": 5
}
